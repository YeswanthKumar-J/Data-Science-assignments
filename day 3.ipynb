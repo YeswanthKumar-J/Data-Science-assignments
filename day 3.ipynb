{
 "cells": [
  {
   "cell_type": "code",
   "execution_count": 3,
   "metadata": {},
   "outputs": [
    {
     "name": "stdout",
     "output_type": "stream",
     "text": [
      "[ 2  5  8 11 14 17 20 23 26 29 32 35 38 41 44 47 50]\n"
     ]
    }
   ],
   "source": [
    "#1]\n",
    "import numpy as np\n",
    "a=np.arange(2,51,3)\n",
    "print(a)"
   ]
  },
  {
   "cell_type": "code",
   "execution_count": 13,
   "metadata": {},
   "outputs": [
    {
     "name": "stdout",
     "output_type": "stream",
     "text": [
      "1 2 5\n",
      "3 7 9\n",
      "[1 2 5 3 7 9]\n",
      "[1 2 3 5 7 9]\n"
     ]
    }
   ],
   "source": [
    "#2]\n",
    "arr1,arr2 = (list(map(int,input().split())) for i in range(2))\n",
    "\n",
    "arr1 = np.array(arr1)\n",
    "arr2 = np.array(arr2)\n",
    "\n",
    "print(np.concatenate((arr1,arr2)))\n",
    "\n",
    "print(np.sort(np.concatenate((arr1,arr2))))"
   ]
  },
  {
   "cell_type": "code",
   "execution_count": 11,
   "metadata": {},
   "outputs": [
    {
     "name": "stdout",
     "output_type": "stream",
     "text": [
      "(3, 4)\n",
      "12\n"
     ]
    }
   ],
   "source": [
    "#3]\n",
    "arr = np.array([ [1,2,3,4] , [4,5,6,7] , [7,8,9,0] ])\n",
    "\n",
    "print(arr.shape)\n",
    "print(arr.size)"
   ]
  },
  {
   "cell_type": "code",
   "execution_count": 14,
   "metadata": {},
   "outputs": [
    {
     "name": "stdout",
     "output_type": "stream",
     "text": [
      "[[1 2 3 4 5 6 7 8 9]] (1, 9)\n",
      "\n",
      "[[1 2 3]\n",
      " [4 5 6]\n",
      " [7 8 9]] (3, 3)\n"
     ]
    }
   ],
   "source": [
    "#4]\n",
    "arr = np.array([ [1,2,3,4,5,6,7,8,9] ])\n",
    "\n",
    "print(arr,arr.shape) \n",
    "\n",
    "print()\n",
    "\n",
    "arr = arr.reshape(3,3) \n",
    "\n",
    "print(arr,arr.shape)"
   ]
  },
  {
   "cell_type": "code",
   "execution_count": 15,
   "metadata": {},
   "outputs": [
    {
     "name": "stdout",
     "output_type": "stream",
     "text": [
      "[[1 2 3]\n",
      " [3 2 1]\n",
      " [4 3 2]\n",
      " [5 4 3]\n",
      " [5 4 5]\n",
      " [5 6 7]]\n",
      "\n",
      "[[1 2 3 5 4 3]\n",
      " [3 2 1 5 4 5]\n",
      " [4 3 2 5 6 7]]\n"
     ]
    }
   ],
   "source": [
    "#5]\n",
    "arr1 = np.array([ [1,2,3] , [3,2,1] , [4,3,2] ])\n",
    "arr2 = np.array([ [5,4,3] , [5,4,5] , [5,6,7] ])\n",
    "\n",
    "print(np.vstack((arr1,arr2))) # Stack the arrays in a row-wise sequence\n",
    "print() \n",
    "print(np.hstack((arr1,arr2))) # Stack the arrays in a column-wise sequence"
   ]
  },
  {
   "cell_type": "code",
   "execution_count": 20,
   "metadata": {},
   "outputs": [
    {
     "name": "stdout",
     "output_type": "stream",
     "text": [
      "[1 2 3 4 5 6]\n",
      "6\n"
     ]
    }
   ],
   "source": [
    "#6]\n",
    "arr = np.array([ [1,2,2] , [3,4,4] , [5,6,6] ])\n",
    "arr2=np.unique(arr)\n",
    "print(arr2)\n",
    "print(arr2.size)\n"
   ]
  },
  {
   "cell_type": "code",
   "execution_count": null,
   "metadata": {},
   "outputs": [],
   "source": []
  }
 ],
 "metadata": {
  "kernelspec": {
   "display_name": "Python 3",
   "language": "python",
   "name": "python3"
  },
  "language_info": {
   "codemirror_mode": {
    "name": "ipython",
    "version": 3
   },
   "file_extension": ".py",
   "mimetype": "text/x-python",
   "name": "python",
   "nbconvert_exporter": "python",
   "pygments_lexer": "ipython3",
   "version": "3.7.6"
  }
 },
 "nbformat": 4,
 "nbformat_minor": 4
}
